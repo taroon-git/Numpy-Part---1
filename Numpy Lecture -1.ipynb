{
 "cells": [
  {
   "cell_type": "code",
   "execution_count": 1,
   "id": "85d06a9e-9e4c-479c-b122-6aa36be12bca",
   "metadata": {},
   "outputs": [],
   "source": [
    "# Numpy :- Numerical Python  . In this we deal with Arrays and Matrix"
   ]
  },
  {
   "cell_type": "code",
   "execution_count": 31,
   "id": "c551fc87-7de8-4622-b01a-c3f78ef1da7a",
   "metadata": {},
   "outputs": [],
   "source": [
    "import numpy as np"
   ]
  },
  {
   "cell_type": "code",
   "execution_count": 32,
   "id": "9ac15b30-76a7-412f-8cd3-bf85e4c9a1e1",
   "metadata": {},
   "outputs": [],
   "source": [
    "l =[1,2,3,4]"
   ]
  },
  {
   "cell_type": "code",
   "execution_count": 33,
   "id": "5b74f8fe-2613-459d-bf0e-da148881a2c4",
   "metadata": {},
   "outputs": [],
   "source": [
    "ar = np.array(l)"
   ]
  },
  {
   "cell_type": "code",
   "execution_count": 34,
   "id": "cb4038c0-1a97-4e8f-9345-d18e557c7dcf",
   "metadata": {},
   "outputs": [
    {
     "data": {
      "text/plain": [
       "array([1, 2, 3, 4])"
      ]
     },
     "execution_count": 34,
     "metadata": {},
     "output_type": "execute_result"
    }
   ],
   "source": [
    "ar"
   ]
  },
  {
   "cell_type": "code",
   "execution_count": 35,
   "id": "50b64613-1b13-4864-af52-ff8ec5f61448",
   "metadata": {},
   "outputs": [
    {
     "data": {
      "text/plain": [
       "numpy.ndarray"
      ]
     },
     "execution_count": 35,
     "metadata": {},
     "output_type": "execute_result"
    }
   ],
   "source": [
    "type(ar)"
   ]
  },
  {
   "cell_type": "code",
   "execution_count": 36,
   "id": "ed7fc236-2efe-4b64-8537-67eaa544c296",
   "metadata": {},
   "outputs": [
    {
     "data": {
      "text/plain": [
       "array([[1, 2],\n",
       "       [3, 4]])"
      ]
     },
     "execution_count": 36,
     "metadata": {},
     "output_type": "execute_result"
    }
   ],
   "source": [
    "np.array([[1,2],[3,4]])"
   ]
  },
  {
   "cell_type": "code",
   "execution_count": 37,
   "id": "14d8d7ed-dfdd-4568-b5a7-6fb0b5e15ab6",
   "metadata": {},
   "outputs": [
    {
     "data": {
      "text/plain": [
       "array([1, 2, 3, 4])"
      ]
     },
     "execution_count": 37,
     "metadata": {},
     "output_type": "execute_result"
    }
   ],
   "source": [
    "np.asarray(l)"
   ]
  },
  {
   "cell_type": "code",
   "execution_count": 38,
   "id": "cf05df51-2d9f-4d89-a33d-4a6b606e4d17",
   "metadata": {},
   "outputs": [],
   "source": [
    "a = [2,3,4]"
   ]
  },
  {
   "cell_type": "code",
   "execution_count": 39,
   "id": "c582f51e-3b1d-4a46-ba45-194c1ba48161",
   "metadata": {},
   "outputs": [
    {
     "data": {
      "text/plain": [
       "array([2, 3, 4])"
      ]
     },
     "execution_count": 39,
     "metadata": {},
     "output_type": "execute_result"
    }
   ],
   "source": [
    "np.asanyarray(a)"
   ]
  },
  {
   "cell_type": "code",
   "execution_count": 40,
   "id": "87b37f40-d34f-4c03-9476-a395069700db",
   "metadata": {},
   "outputs": [],
   "source": [
    "b = np.matrix(l)"
   ]
  },
  {
   "cell_type": "code",
   "execution_count": 41,
   "id": "669d1b21-261c-4a3a-b3f9-56b0a86c7bba",
   "metadata": {},
   "outputs": [
    {
     "data": {
      "text/plain": [
       "matrix([[1, 2, 3, 4]])"
      ]
     },
     "execution_count": 41,
     "metadata": {},
     "output_type": "execute_result"
    }
   ],
   "source": [
    "b  # matrix by default 2-D ."
   ]
  },
  {
   "cell_type": "code",
   "execution_count": 42,
   "id": "b57ca57f-3f94-4298-aa86-cbe7632bda11",
   "metadata": {},
   "outputs": [
    {
     "data": {
      "text/plain": [
       "matrix([[1, 2, 3, 4]])"
      ]
     },
     "execution_count": 42,
     "metadata": {},
     "output_type": "execute_result"
    }
   ],
   "source": [
    "np.asanyarray(b)  # .asanyarray() can't convert matrix into array, because Matrix is also a subset of an array."
   ]
  },
  {
   "cell_type": "code",
   "execution_count": 43,
   "id": "bd22f119-4788-4056-b55d-4c07e94344f4",
   "metadata": {},
   "outputs": [],
   "source": [
    "a = np.array(l)"
   ]
  },
  {
   "cell_type": "code",
   "execution_count": 44,
   "id": "6999b86a-10ee-46e2-b1dc-42a20d161495",
   "metadata": {},
   "outputs": [
    {
     "data": {
      "text/plain": [
       "array([1, 2, 3, 4])"
      ]
     },
     "execution_count": 44,
     "metadata": {},
     "output_type": "execute_result"
    }
   ],
   "source": [
    "a"
   ]
  },
  {
   "cell_type": "code",
   "execution_count": 45,
   "id": "e115c288-b232-496b-9eaf-2ab8c0425ca0",
   "metadata": {},
   "outputs": [],
   "source": [
    "c = a"
   ]
  },
  {
   "cell_type": "code",
   "execution_count": 46,
   "id": "3756921b-9ffa-46a2-8b37-45e0921b04f4",
   "metadata": {},
   "outputs": [
    {
     "data": {
      "text/plain": [
       "array([1, 2, 3, 4])"
      ]
     },
     "execution_count": 46,
     "metadata": {},
     "output_type": "execute_result"
    }
   ],
   "source": [
    "c\n"
   ]
  },
  {
   "cell_type": "code",
   "execution_count": 47,
   "id": "9ab29d0c-d13a-49d8-9833-46f3ca148d79",
   "metadata": {},
   "outputs": [],
   "source": [
    "c[0] = 100"
   ]
  },
  {
   "cell_type": "code",
   "execution_count": 48,
   "id": "9018dfc9-7bb0-4f2c-bf1d-e4a1163c5383",
   "metadata": {},
   "outputs": [
    {
     "data": {
      "text/plain": [
       "array([100,   2,   3,   4])"
      ]
     },
     "execution_count": 48,
     "metadata": {},
     "output_type": "execute_result"
    }
   ],
   "source": [
    "c"
   ]
  },
  {
   "cell_type": "code",
   "execution_count": 49,
   "id": "7182565a-f283-4d7c-8593-e44e80db23b6",
   "metadata": {},
   "outputs": [
    {
     "data": {
      "text/plain": [
       "array([100,   2,   3,   4])"
      ]
     },
     "execution_count": 49,
     "metadata": {},
     "output_type": "execute_result"
    }
   ],
   "source": [
    "a"
   ]
  },
  {
   "cell_type": "code",
   "execution_count": 50,
   "id": "48c0650d-32ca-42fe-9ae4-978ebcbb1365",
   "metadata": {},
   "outputs": [],
   "source": [
    "d = np.copy(a)  # This is called deep copy"
   ]
  },
  {
   "cell_type": "code",
   "execution_count": 51,
   "id": "824c78cc-2285-47f1-8c6a-e6d88f35aa97",
   "metadata": {},
   "outputs": [
    {
     "data": {
      "text/plain": [
       "array([100,   2,   3,   4])"
      ]
     },
     "execution_count": 51,
     "metadata": {},
     "output_type": "execute_result"
    }
   ],
   "source": [
    "d"
   ]
  },
  {
   "cell_type": "code",
   "execution_count": 52,
   "id": "d06c6b68-12e8-469c-b9ba-7ed2625544ec",
   "metadata": {},
   "outputs": [
    {
     "data": {
      "text/plain": [
       "array([100,   2,   3,   4])"
      ]
     },
     "execution_count": 52,
     "metadata": {},
     "output_type": "execute_result"
    }
   ],
   "source": [
    "a"
   ]
  },
  {
   "cell_type": "code",
   "execution_count": 53,
   "id": "2cf66621-82f4-4a1c-a64f-56902c706c66",
   "metadata": {},
   "outputs": [],
   "source": [
    "a[1] = 400"
   ]
  },
  {
   "cell_type": "code",
   "execution_count": 54,
   "id": "8147f54e-c0ec-47fe-8db5-5813d1174219",
   "metadata": {},
   "outputs": [
    {
     "data": {
      "text/plain": [
       "array([100, 400,   3,   4])"
      ]
     },
     "execution_count": 54,
     "metadata": {},
     "output_type": "execute_result"
    }
   ],
   "source": [
    "a"
   ]
  },
  {
   "cell_type": "code",
   "execution_count": 55,
   "id": "ddbe1f70-0f43-4b21-963a-f8ed9ccfa65c",
   "metadata": {},
   "outputs": [],
   "source": [
    "# At the end of the day , We will generate the array. So, in Numpy a lot of functions included which helps to generate a different\n",
    "# different dimensions of arrays."
   ]
  },
  {
   "cell_type": "code",
   "execution_count": 56,
   "id": "2c41a283-3848-4806-adff-41c6ce49faaa",
   "metadata": {},
   "outputs": [
    {
     "data": {
      "text/plain": [
       "array([[ True, False, False],\n",
       "       [False,  True, False],\n",
       "       [False, False,  True]])"
      ]
     },
     "execution_count": 56,
     "metadata": {},
     "output_type": "execute_result"
    }
   ],
   "source": [
    "np.fromfunction(lambda i,j : i== j,(3,3)) # Now, this function will generate 3X3 dim. data."
   ]
  },
  {
   "cell_type": "code",
   "execution_count": 57,
   "id": "c8f6920b-de1e-40d3-915b-bc0d7ecbeee6",
   "metadata": {},
   "outputs": [
    {
     "data": {
      "text/plain": [
       "array([[0., 0., 0.],\n",
       "       [0., 1., 2.],\n",
       "       [0., 2., 4.]])"
      ]
     },
     "execution_count": 57,
     "metadata": {},
     "output_type": "execute_result"
    }
   ],
   "source": [
    "np.fromfunction(lambda i,j : i*j,(3,3)) # This formfunction is used to generating the arrays."
   ]
  },
  {
   "cell_type": "code",
   "execution_count": 58,
   "id": "146ebdf1-d73a-4119-aae7-1fb0b5e54581",
   "metadata": {},
   "outputs": [],
   "source": [
    "iterable = (i*i for i in range(5))"
   ]
  },
  {
   "cell_type": "code",
   "execution_count": 59,
   "id": "aa327a74-de76-47be-96e6-c61a138560eb",
   "metadata": {},
   "outputs": [
    {
     "data": {
      "text/plain": [
       "array([ 0.,  1.,  4.,  9., 16.])"
      ]
     },
     "execution_count": 59,
     "metadata": {},
     "output_type": "execute_result"
    }
   ],
   "source": [
    "np.fromiter(iterable,float)  # generating array by using iterables."
   ]
  },
  {
   "cell_type": "code",
   "execution_count": 60,
   "id": "d2c6295c-1a87-4602-add1-c3c39c2aacb8",
   "metadata": {},
   "outputs": [
    {
     "data": {
      "text/plain": [
       "array([234., 235.])"
      ]
     },
     "execution_count": 60,
     "metadata": {},
     "output_type": "execute_result"
    }
   ],
   "source": [
    "np.fromstring('234 235' , sep = ' ') # generating arrays by using strings, and seprated from space ' '\n"
   ]
  },
  {
   "cell_type": "markdown",
   "id": "483afb02-85b4-495d-886c-8fe56ca7ddee",
   "metadata": {},
   "source": [
    "# Numpy - Data Types"
   ]
  },
  {
   "cell_type": "code",
   "execution_count": 61,
   "id": "493fb36e-67b3-4c97-9155-7f4ba70d2285",
   "metadata": {},
   "outputs": [],
   "source": [
    "l = [2,3,4,5,6]"
   ]
  },
  {
   "cell_type": "code",
   "execution_count": 62,
   "id": "1eac1d8d-7c7d-41cd-b54f-8610b98182a1",
   "metadata": {},
   "outputs": [],
   "source": [
    "ar = np.array(l)"
   ]
  },
  {
   "cell_type": "code",
   "execution_count": 63,
   "id": "a8a8014e-97ce-4a4b-85b9-f8d631495089",
   "metadata": {},
   "outputs": [
    {
     "data": {
      "text/plain": [
       "array([2, 3, 4, 5, 6])"
      ]
     },
     "execution_count": 63,
     "metadata": {},
     "output_type": "execute_result"
    }
   ],
   "source": [
    "ar"
   ]
  },
  {
   "cell_type": "code",
   "execution_count": 64,
   "id": "fe99ea34-5edd-4223-841e-195eef9a773d",
   "metadata": {},
   "outputs": [
    {
     "data": {
      "text/plain": [
       "1"
      ]
     },
     "execution_count": 64,
     "metadata": {},
     "output_type": "execute_result"
    }
   ],
   "source": [
    "ar.ndim  # To know the dimesion  by  .ndim"
   ]
  },
  {
   "cell_type": "code",
   "execution_count": 65,
   "id": "4d65d742-e88b-430e-97ac-f2645463a06c",
   "metadata": {},
   "outputs": [],
   "source": [
    "ar2 = np.array([[1,2,3,4],[2,3,4,5]])"
   ]
  },
  {
   "cell_type": "code",
   "execution_count": 66,
   "id": "aa87a388-d7a0-48ef-8fe0-8cdacffa00e6",
   "metadata": {},
   "outputs": [
    {
     "data": {
      "text/plain": [
       "array([[1, 2, 3, 4],\n",
       "       [2, 3, 4, 5]])"
      ]
     },
     "execution_count": 66,
     "metadata": {},
     "output_type": "execute_result"
    }
   ],
   "source": [
    "ar2"
   ]
  },
  {
   "cell_type": "code",
   "execution_count": 67,
   "id": "f849c42f-c55f-42c1-b1fd-c1965585e9e3",
   "metadata": {},
   "outputs": [
    {
     "data": {
      "text/plain": [
       "2"
      ]
     },
     "execution_count": 67,
     "metadata": {},
     "output_type": "execute_result"
    }
   ],
   "source": [
    "ar2.ndim"
   ]
  },
  {
   "cell_type": "code",
   "execution_count": 68,
   "id": "62d9c19b-1cce-4785-8961-6bae4e4a1408",
   "metadata": {},
   "outputs": [
    {
     "data": {
      "text/plain": [
       "5"
      ]
     },
     "execution_count": 68,
     "metadata": {},
     "output_type": "execute_result"
    }
   ],
   "source": [
    "ar.size  # To know the size of array(no. of elements in an array)"
   ]
  },
  {
   "cell_type": "code",
   "execution_count": 69,
   "id": "0c8bc43c-7694-4c2d-a67b-98c0fc9691d7",
   "metadata": {},
   "outputs": [
    {
     "data": {
      "text/plain": [
       "(5,)"
      ]
     },
     "execution_count": 69,
     "metadata": {},
     "output_type": "execute_result"
    }
   ],
   "source": [
    "ar.shape  # To know the row and columns of the array  Ex:- (row,column)"
   ]
  },
  {
   "cell_type": "code",
   "execution_count": 70,
   "id": "8119b05e-6ab6-40f0-be36-c01e82a9f3a3",
   "metadata": {},
   "outputs": [
    {
     "data": {
      "text/plain": [
       "(2, 4)"
      ]
     },
     "execution_count": 70,
     "metadata": {},
     "output_type": "execute_result"
    }
   ],
   "source": [
    "ar2.shape"
   ]
  },
  {
   "cell_type": "code",
   "execution_count": 71,
   "id": "bf5b1994-820d-4040-ac59-ee169eefea33",
   "metadata": {},
   "outputs": [
    {
     "data": {
      "text/plain": [
       "dtype('int64')"
      ]
     },
     "execution_count": 71,
     "metadata": {},
     "output_type": "execute_result"
    }
   ],
   "source": [
    "ar.dtype  # To know the type of data ."
   ]
  },
  {
   "cell_type": "code",
   "execution_count": 72,
   "id": "7b1957b2-2a51-488a-8d27-582b5ee899b1",
   "metadata": {},
   "outputs": [
    {
     "data": {
      "text/plain": [
       "dtype('int64')"
      ]
     },
     "execution_count": 72,
     "metadata": {},
     "output_type": "execute_result"
    }
   ],
   "source": [
    "ar2.dtype"
   ]
  },
  {
   "cell_type": "code",
   "execution_count": 73,
   "id": "b559928d-de75-4fb3-8ae7-87fd7fa147f9",
   "metadata": {},
   "outputs": [],
   "source": [
    "ar22 = np.array([(1.4,45,45),(23,45,66)])"
   ]
  },
  {
   "cell_type": "code",
   "execution_count": 74,
   "id": "0fde6cc4-43d6-4b74-b4c2-3333cf5480af",
   "metadata": {},
   "outputs": [
    {
     "data": {
      "text/plain": [
       "array([[ 1.4, 45. , 45. ],\n",
       "       [23. , 45. , 66. ]])"
      ]
     },
     "execution_count": 74,
     "metadata": {},
     "output_type": "execute_result"
    }
   ],
   "source": [
    "ar22  # It will change the data type of all the elements bcoz, Float have more space."
   ]
  },
  {
   "cell_type": "code",
   "execution_count": 75,
   "id": "e49eea48-e82b-48c5-824d-8170e4a968f2",
   "metadata": {},
   "outputs": [
    {
     "data": {
      "text/plain": [
       "dtype('float64')"
      ]
     },
     "execution_count": 75,
     "metadata": {},
     "output_type": "execute_result"
    }
   ],
   "source": [
    "ar22.dtype"
   ]
  },
  {
   "cell_type": "code",
   "execution_count": 76,
   "id": "2a2264d2-65f1-41c4-9ab9-78f79e5e1e07",
   "metadata": {},
   "outputs": [
    {
     "data": {
      "text/plain": [
       "[0, 1, 2, 3, 4]"
      ]
     },
     "execution_count": 76,
     "metadata": {},
     "output_type": "execute_result"
    }
   ],
   "source": [
    "list(range(5))  # Range function always allow integers not floating point numbers."
   ]
  },
  {
   "cell_type": "code",
   "execution_count": 77,
   "id": "a3fb6372-1da9-43a1-b5e8-ed295ee6c052",
   "metadata": {},
   "outputs": [
    {
     "data": {
      "text/plain": [
       "array([2.3, 2.6, 2.9, 3.2, 3.5, 3.8, 4.1, 4.4, 4.7, 5. , 5.3])"
      ]
     },
     "execution_count": 77,
     "metadata": {},
     "output_type": "execute_result"
    }
   ],
   "source": [
    "# But in Numpy , This provision has included \n",
    "np.arange(2.3,5.6,.3)  # We can jump also."
   ]
  },
  {
   "cell_type": "code",
   "execution_count": 78,
   "id": "8c7e199d-434b-4062-950f-c2a705cfd240",
   "metadata": {},
   "outputs": [
    {
     "data": {
      "text/plain": [
       "[2.3,\n",
       " 2.5999999999999996,\n",
       " 2.8999999999999995,\n",
       " 3.1999999999999993,\n",
       " 3.499999999999999,\n",
       " 3.799999999999999,\n",
       " 4.099999999999999,\n",
       " 4.399999999999999,\n",
       " 4.699999999999998,\n",
       " 4.999999999999998,\n",
       " 5.299999999999998]"
      ]
     },
     "execution_count": 78,
     "metadata": {},
     "output_type": "execute_result"
    }
   ],
   "source": [
    "list(np.arange(2.3,5.6,.3))  # converting array to list."
   ]
  },
  {
   "cell_type": "code",
   "execution_count": 79,
   "id": "f0fcdeb7-ddb2-4339-ab21-de212523330b",
   "metadata": {},
   "outputs": [
    {
     "data": {
      "text/plain": [
       "array([1.        , 1.44444444, 1.88888889, 2.33333333, 2.77777778,\n",
       "       3.22222222, 3.66666667, 4.11111111, 4.55555556, 5.        ])"
      ]
     },
     "execution_count": 79,
     "metadata": {},
     "output_type": "execute_result"
    }
   ],
   "source": [
    "np.linspace(1,5,10) # Here linspace takes a line 1 to 5 and divided into 10 equal space. It's also a data generator function"
   ]
  },
  {
   "cell_type": "code",
   "execution_count": 80,
   "id": "b8ca3ec8-c2c1-48c6-854b-3a4578273f17",
   "metadata": {},
   "outputs": [
    {
     "data": {
      "text/plain": [
       "array([0., 0., 0., 0., 0.])"
      ]
     },
     "execution_count": 80,
     "metadata": {},
     "output_type": "execute_result"
    }
   ],
   "source": [
    "np.zeros(5)  # generating array having zero value with size 5"
   ]
  },
  {
   "cell_type": "code",
   "execution_count": 81,
   "id": "8cf5cc23-689a-471b-b114-4fedce3d084d",
   "metadata": {},
   "outputs": [
    {
     "data": {
      "text/plain": [
       "array([[[0., 0.],\n",
       "        [0., 0.],\n",
       "        [0., 0.],\n",
       "        [0., 0.]],\n",
       "\n",
       "       [[0., 0.],\n",
       "        [0., 0.],\n",
       "        [0., 0.],\n",
       "        [0., 0.]],\n",
       "\n",
       "       [[0., 0.],\n",
       "        [0., 0.],\n",
       "        [0., 0.],\n",
       "        [0., 0.]]])"
      ]
     },
     "execution_count": 81,
     "metadata": {},
     "output_type": "execute_result"
    }
   ],
   "source": [
    "np.zeros((3,4,2))"
   ]
  },
  {
   "cell_type": "code",
   "execution_count": 82,
   "id": "bb12f63f-00f7-49b1-b1f8-5e6b8d58c041",
   "metadata": {},
   "outputs": [],
   "source": [
    "# We  can generate 4-D and more but can't viualize in pictorial format\n",
    "\n",
    "ar4 = np.zeros((3,4,2,3))"
   ]
  },
  {
   "cell_type": "code",
   "execution_count": 83,
   "id": "ed8e1cd6-f013-4ede-b4e3-ddfb29866a69",
   "metadata": {},
   "outputs": [
    {
     "data": {
      "text/plain": [
       "array([[[[0., 0., 0.],\n",
       "         [0., 0., 0.]],\n",
       "\n",
       "        [[0., 0., 0.],\n",
       "         [0., 0., 0.]],\n",
       "\n",
       "        [[0., 0., 0.],\n",
       "         [0., 0., 0.]],\n",
       "\n",
       "        [[0., 0., 0.],\n",
       "         [0., 0., 0.]]],\n",
       "\n",
       "\n",
       "       [[[0., 0., 0.],\n",
       "         [0., 0., 0.]],\n",
       "\n",
       "        [[0., 0., 0.],\n",
       "         [0., 0., 0.]],\n",
       "\n",
       "        [[0., 0., 0.],\n",
       "         [0., 0., 0.]],\n",
       "\n",
       "        [[0., 0., 0.],\n",
       "         [0., 0., 0.]]],\n",
       "\n",
       "\n",
       "       [[[0., 0., 0.],\n",
       "         [0., 0., 0.]],\n",
       "\n",
       "        [[0., 0., 0.],\n",
       "         [0., 0., 0.]],\n",
       "\n",
       "        [[0., 0., 0.],\n",
       "         [0., 0., 0.]],\n",
       "\n",
       "        [[0., 0., 0.],\n",
       "         [0., 0., 0.]]]])"
      ]
     },
     "execution_count": 83,
     "metadata": {},
     "output_type": "execute_result"
    }
   ],
   "source": [
    "ar4"
   ]
  },
  {
   "cell_type": "code",
   "execution_count": 84,
   "id": "8af1f16c-4411-4d1b-834d-b2973063ecd9",
   "metadata": {},
   "outputs": [
    {
     "data": {
      "text/plain": [
       "4"
      ]
     },
     "execution_count": 84,
     "metadata": {},
     "output_type": "execute_result"
    }
   ],
   "source": [
    "ar4.ndim   # This is 4-Dimensional but can't visualize graphically"
   ]
  },
  {
   "cell_type": "code",
   "execution_count": 85,
   "id": "8d5a54f6-0f67-4eab-a82f-7697f97d9afd",
   "metadata": {},
   "outputs": [
    {
     "data": {
      "text/plain": [
       "array([1., 1., 1., 1.])"
      ]
     },
     "execution_count": 85,
     "metadata": {},
     "output_type": "execute_result"
    }
   ],
   "source": [
    "np.ones(4)"
   ]
  },
  {
   "cell_type": "code",
   "execution_count": 86,
   "id": "3c093af0-f3cd-4e0d-b9de-e7b536a59f0a",
   "metadata": {},
   "outputs": [
    {
     "data": {
      "text/plain": [
       "array([[1., 1., 1.],\n",
       "       [1., 1., 1.]])"
      ]
     },
     "execution_count": 86,
     "metadata": {},
     "output_type": "execute_result"
    }
   ],
   "source": [
    "np.ones((2,3))"
   ]
  },
  {
   "cell_type": "code",
   "execution_count": 87,
   "id": "8846b9c9-4698-4eb9-a916-b3d9ef1fd2e4",
   "metadata": {},
   "outputs": [],
   "source": [
    "on = np.ones((2,3,2))"
   ]
  },
  {
   "cell_type": "code",
   "execution_count": 88,
   "id": "df5c6be6-0c2a-4b5d-9918-98097862c800",
   "metadata": {},
   "outputs": [
    {
     "data": {
      "text/plain": [
       "array([[[6., 6.],\n",
       "        [6., 6.],\n",
       "        [6., 6.]],\n",
       "\n",
       "       [[6., 6.],\n",
       "        [6., 6.],\n",
       "        [6., 6.]]])"
      ]
     },
     "execution_count": 88,
     "metadata": {},
     "output_type": "execute_result"
    }
   ],
   "source": [
    "on + 5"
   ]
  },
  {
   "cell_type": "code",
   "execution_count": 89,
   "id": "ec35a1c4-4c1f-4b32-9b2c-9ece20d5e896",
   "metadata": {},
   "outputs": [
    {
     "data": {
      "text/plain": [
       "array([[4.65691887e-310, 0.00000000e+000, 0.00000000e+000,\n",
       "        0.00000000e+000, 0.00000000e+000],\n",
       "       [0.00000000e+000, 0.00000000e+000, 0.00000000e+000,\n",
       "        0.00000000e+000, 0.00000000e+000],\n",
       "       [0.00000000e+000, 0.00000000e+000, 0.00000000e+000,\n",
       "        0.00000000e+000, 6.32404027e-322]])"
      ]
     },
     "execution_count": 89,
     "metadata": {},
     "output_type": "execute_result"
    }
   ],
   "source": [
    "np.empty((3,5)) #Produced empty array."
   ]
  },
  {
   "cell_type": "code",
   "execution_count": 90,
   "id": "1ff947f7-ad71-4e99-9227-c4e6dfc0afbb",
   "metadata": {},
   "outputs": [
    {
     "data": {
      "text/plain": [
       "array([[1., 0., 0., 0.],\n",
       "       [0., 1., 0., 0.],\n",
       "       [0., 0., 1., 0.],\n",
       "       [0., 0., 0., 1.]])"
      ]
     },
     "execution_count": 90,
     "metadata": {},
     "output_type": "execute_result"
    }
   ],
   "source": [
    "np.eye(4)  # identity matrix\n"
   ]
  },
  {
   "cell_type": "code",
   "execution_count": 91,
   "id": "1392cd7b-60dd-409f-b3de-59bdaaf11071",
   "metadata": {},
   "outputs": [
    {
     "data": {
      "text/plain": [
       "array([2.        , 2.10526316, 2.21052632, 2.31578947, 2.42105263,\n",
       "       2.52631579, 2.63157895, 2.73684211, 2.84210526, 2.94736842,\n",
       "       3.05263158, 3.15789474, 3.26315789, 3.36842105, 3.47368421,\n",
       "       3.57894737, 3.68421053, 3.78947368, 3.89473684, 4.        ])"
      ]
     },
     "execution_count": 91,
     "metadata": {},
     "output_type": "execute_result"
    }
   ],
   "source": [
    "np.linspace(2,4,20)  # generated data"
   ]
  },
  {
   "cell_type": "code",
   "execution_count": 92,
   "id": "1f3faf11-2292-4b1e-9242-10d8a5e0403c",
   "metadata": {},
   "outputs": [
    {
     "data": {
      "text/plain": [
       "array([   100.        ,    215.443469  ,    464.15888336,   1000.        ,\n",
       "         2154.43469003,   4641.58883361,  10000.        ,  21544.34690032,\n",
       "        46415.88833613, 100000.        ])"
      ]
     },
     "execution_count": 92,
     "metadata": {},
     "output_type": "execute_result"
    }
   ],
   "source": [
    "np.logspace(2,5,10) # generate data between 2,5 and needed data 10 . with their log(by default base 10)"
   ]
  },
  {
   "cell_type": "code",
   "execution_count": 93,
   "id": "8bbbe49b-f461-43a6-baa2-90f8ab2eacfb",
   "metadata": {},
   "outputs": [
    {
     "data": {
      "text/plain": [
       "array([ 4.        ,  5.0396842 ,  6.34960421,  8.        , 10.0793684 ,\n",
       "       12.69920842, 16.        , 20.1587368 , 25.39841683, 32.        ])"
      ]
     },
     "execution_count": 93,
     "metadata": {},
     "output_type": "execute_result"
    }
   ],
   "source": [
    "np.logspace(2,5,10, base = 2)"
   ]
  },
  {
   "cell_type": "markdown",
   "id": "234c2ddb-f205-48fe-b406-2f7ed39fe260",
   "metadata": {},
   "source": [
    "# Famous functions:- "
   ]
  },
  {
   "cell_type": "code",
   "execution_count": 94,
   "id": "dbdf3d74-960f-464c-a264-4135e66048bd",
   "metadata": {},
   "outputs": [],
   "source": [
    "arr = np.random.randn(3,4) # It will generate 3X4 data randomly (It returns a sample from the \"standard normal\" distribution."
   ]
  },
  {
   "cell_type": "code",
   "execution_count": 95,
   "id": "4f1b7b37-159b-4c79-9f98-19ba392e8f1a",
   "metadata": {},
   "outputs": [],
   "source": [
    "import pandas as pd"
   ]
  },
  {
   "cell_type": "code",
   "execution_count": 96,
   "id": "58df1f70-af73-44e7-bd78-05b94bdc08ff",
   "metadata": {},
   "outputs": [
    {
     "data": {
      "text/html": [
       "<div>\n",
       "<style scoped>\n",
       "    .dataframe tbody tr th:only-of-type {\n",
       "        vertical-align: middle;\n",
       "    }\n",
       "\n",
       "    .dataframe tbody tr th {\n",
       "        vertical-align: top;\n",
       "    }\n",
       "\n",
       "    .dataframe thead th {\n",
       "        text-align: right;\n",
       "    }\n",
       "</style>\n",
       "<table border=\"1\" class=\"dataframe\">\n",
       "  <thead>\n",
       "    <tr style=\"text-align: right;\">\n",
       "      <th></th>\n",
       "      <th>0</th>\n",
       "      <th>1</th>\n",
       "      <th>2</th>\n",
       "      <th>3</th>\n",
       "    </tr>\n",
       "  </thead>\n",
       "  <tbody>\n",
       "    <tr>\n",
       "      <th>0</th>\n",
       "      <td>-0.027846</td>\n",
       "      <td>-0.406233</td>\n",
       "      <td>-0.359075</td>\n",
       "      <td>-0.691377</td>\n",
       "    </tr>\n",
       "    <tr>\n",
       "      <th>1</th>\n",
       "      <td>-0.525243</td>\n",
       "      <td>0.823550</td>\n",
       "      <td>0.644366</td>\n",
       "      <td>0.699316</td>\n",
       "    </tr>\n",
       "    <tr>\n",
       "      <th>2</th>\n",
       "      <td>0.655108</td>\n",
       "      <td>-0.778545</td>\n",
       "      <td>-0.573745</td>\n",
       "      <td>-0.731716</td>\n",
       "    </tr>\n",
       "  </tbody>\n",
       "</table>\n",
       "</div>"
      ],
      "text/plain": [
       "          0         1         2         3\n",
       "0 -0.027846 -0.406233 -0.359075 -0.691377\n",
       "1 -0.525243  0.823550  0.644366  0.699316\n",
       "2  0.655108 -0.778545 -0.573745 -0.731716"
      ]
     },
     "execution_count": 96,
     "metadata": {},
     "output_type": "execute_result"
    }
   ],
   "source": [
    "pd.DataFrame(arr)  # converted into DataFrame"
   ]
  },
  {
   "cell_type": "code",
   "execution_count": 97,
   "id": "fc69254d-b8d3-4632-8650-f578b9e94261",
   "metadata": {},
   "outputs": [
    {
     "data": {
      "text/plain": [
       "array([[0.53065665, 0.55138212, 0.86063019, 0.21683332],\n",
       "       [0.88905858, 0.87704883, 0.01998344, 0.17205872],\n",
       "       [0.96078516, 0.21077836, 0.09969525, 0.29028391]])"
      ]
     },
     "execution_count": 97,
     "metadata": {},
     "output_type": "execute_result"
    }
   ],
   "source": [
    "np.random.rand(3,4) # Random data"
   ]
  },
  {
   "cell_type": "code",
   "execution_count": 98,
   "id": "751c2512-4088-4c54-86de-7bdb1347d5fc",
   "metadata": {},
   "outputs": [],
   "source": [
    "pd.DataFrame(np.random.randint(1,110,(300,400))).to_csv('test.csv') \n",
    "# generate int. data randomly . Also can be convert into DataFrame and can be stored into the csv. file."
   ]
  },
  {
   "cell_type": "code",
   "execution_count": 99,
   "id": "0a4c11cd-ca36-451d-af4f-b48627ea4c63",
   "metadata": {},
   "outputs": [
    {
     "data": {
      "text/plain": [
       "array([[-0.02784642, -0.40623264, -0.35907523, -0.69137718],\n",
       "       [-0.52524335,  0.82355048,  0.64436554,  0.69931618],\n",
       "       [ 0.65510841, -0.77854515, -0.57374481, -0.73171605]])"
      ]
     },
     "execution_count": 99,
     "metadata": {},
     "output_type": "execute_result"
    }
   ],
   "source": [
    "arr"
   ]
  },
  {
   "cell_type": "code",
   "execution_count": 100,
   "id": "9167bfba-d116-4b4c-9e23-8f172130d480",
   "metadata": {},
   "outputs": [
    {
     "data": {
      "text/plain": [
       "array([[-0.02784642, -0.40623264],\n",
       "       [-0.35907523, -0.69137718],\n",
       "       [-0.52524335,  0.82355048],\n",
       "       [ 0.64436554,  0.69931618],\n",
       "       [ 0.65510841, -0.77854515],\n",
       "       [-0.57374481, -0.73171605]])"
      ]
     },
     "execution_count": 100,
     "metadata": {},
     "output_type": "execute_result"
    }
   ],
   "source": [
    "arr.reshape(6,2) # Re-arranged above data into 6X2"
   ]
  },
  {
   "cell_type": "code",
   "execution_count": 101,
   "id": "ce29865c-9982-491c-abe8-9c10141e49df",
   "metadata": {},
   "outputs": [
    {
     "ename": "ValueError",
     "evalue": "cannot reshape array of size 12 into shape (6,3)",
     "output_type": "error",
     "traceback": [
      "\u001b[0;31m---------------------------------------------------------------------------\u001b[0m",
      "\u001b[0;31mValueError\u001b[0m                                Traceback (most recent call last)",
      "Cell \u001b[0;32mIn[101], line 1\u001b[0m\n\u001b[0;32m----> 1\u001b[0m \u001b[43marr\u001b[49m\u001b[38;5;241;43m.\u001b[39;49m\u001b[43mreshape\u001b[49m\u001b[43m(\u001b[49m\u001b[38;5;241;43m6\u001b[39;49m\u001b[43m,\u001b[49m\u001b[38;5;241;43m3\u001b[39;49m\u001b[43m)\u001b[49m  \u001b[38;5;66;03m# This will not work bcoz, data is whole not a  fractional\u001b[39;00m\n",
      "\u001b[0;31mValueError\u001b[0m: cannot reshape array of size 12 into shape (6,3)"
     ]
    }
   ],
   "source": [
    "arr.reshape(6,3)  # This will not work bcoz, data is whole not a  fractional"
   ]
  },
  {
   "cell_type": "code",
   "execution_count": 102,
   "id": "42bd13d2-661f-44a5-b75f-c62c712e0f1d",
   "metadata": {},
   "outputs": [],
   "source": [
    "\n",
    "arr1 = arr.reshape(6,-1) # Bcoz, It'll understand itself one dim. is 6 and other is 2"
   ]
  },
  {
   "cell_type": "code",
   "execution_count": 103,
   "id": "e2e3df6a-6456-46dd-adfe-1ce85e6f315d",
   "metadata": {},
   "outputs": [
    {
     "data": {
      "text/plain": [
       "array([[-0.02784642, -0.40623264],\n",
       "       [-0.35907523, -0.69137718],\n",
       "       [-0.52524335,  0.82355048],\n",
       "       [ 0.64436554,  0.69931618],\n",
       "       [ 0.65510841, -0.77854515],\n",
       "       [-0.57374481, -0.73171605]])"
      ]
     },
     "execution_count": 103,
     "metadata": {},
     "output_type": "execute_result"
    }
   ],
   "source": [
    "arr1"
   ]
  },
  {
   "cell_type": "code",
   "execution_count": 104,
   "id": "64aadea1-3aaa-45a8-b830-b00f8aac3dc3",
   "metadata": {},
   "outputs": [
    {
     "data": {
      "text/plain": [
       "-0.691377180723896"
      ]
     },
     "execution_count": 104,
     "metadata": {},
     "output_type": "execute_result"
    }
   ],
   "source": [
    "arr1[1][1]  # Fetching first column. With the help of indexing and slicing we can access any data."
   ]
  },
  {
   "cell_type": "code",
   "execution_count": 105,
   "id": "93c86d4c-11f5-466f-8b16-5e477902a226",
   "metadata": {},
   "outputs": [
    {
     "data": {
      "text/plain": [
       "array([ 0.82355048,  0.69931618, -0.77854515])"
      ]
     },
     "execution_count": 105,
     "metadata": {},
     "output_type": "execute_result"
    }
   ],
   "source": [
    "arr1[2:5,1]"
   ]
  },
  {
   "cell_type": "code",
   "execution_count": 106,
   "id": "c9e39dfc-218d-4302-9005-e5e4e23171d3",
   "metadata": {},
   "outputs": [],
   "source": [
    "arr = np.random.randint(1,100,(5,5))"
   ]
  },
  {
   "cell_type": "code",
   "execution_count": 107,
   "id": "dfd72d3e-e153-41d3-a292-a51f05cbabea",
   "metadata": {},
   "outputs": [
    {
     "data": {
      "text/plain": [
       "array([[37, 42, 60,  9, 15],\n",
       "       [ 1, 61, 22,  5, 50],\n",
       "       [13, 64,  7, 97, 59],\n",
       "       [24, 25, 38, 20, 13],\n",
       "       [13, 94, 34, 61, 26]])"
      ]
     },
     "execution_count": 107,
     "metadata": {},
     "output_type": "execute_result"
    }
   ],
   "source": [
    "arr"
   ]
  },
  {
   "cell_type": "code",
   "execution_count": 108,
   "id": "3d580359-f27f-495f-ab44-7f2e1dd5c251",
   "metadata": {},
   "outputs": [
    {
     "data": {
      "text/plain": [
       "array([60, 61, 64, 97, 59, 94, 61])"
      ]
     },
     "execution_count": 108,
     "metadata": {},
     "output_type": "execute_result"
    }
   ],
   "source": [
    "arr[arr>50]"
   ]
  },
  {
   "cell_type": "code",
   "execution_count": 109,
   "id": "95ed522c-9eb2-41a9-9ea7-f968c827c0ca",
   "metadata": {},
   "outputs": [
    {
     "data": {
      "text/plain": [
       "array([[37, 42, 60,  9, 15],\n",
       "       [ 1, 61, 22,  5, 50],\n",
       "       [13, 64,  7, 97, 59],\n",
       "       [24, 25, 38, 20, 13],\n",
       "       [13, 94, 34, 61, 26]])"
      ]
     },
     "execution_count": 109,
     "metadata": {},
     "output_type": "execute_result"
    }
   ],
   "source": [
    "arr"
   ]
  },
  {
   "cell_type": "code",
   "execution_count": 110,
   "id": "78e78c2d-a6e8-4498-a31d-52268c37062d",
   "metadata": {},
   "outputs": [
    {
     "data": {
      "text/plain": [
       "array([[64,  7],\n",
       "       [25, 38]])"
      ]
     },
     "execution_count": 110,
     "metadata": {},
     "output_type": "execute_result"
    }
   ],
   "source": [
    "arr[2:4 , 1:3] # fetching data from any place"
   ]
  },
  {
   "cell_type": "code",
   "execution_count": 111,
   "id": "1f3c0fd3-e1c4-4bc1-bf7b-a31929fa52e2",
   "metadata": {},
   "outputs": [],
   "source": [
    "arr[0][0] = 5000"
   ]
  },
  {
   "cell_type": "code",
   "execution_count": 112,
   "id": "0f4d89fe-7f55-4c8c-99f3-566da6d1e4a3",
   "metadata": {},
   "outputs": [
    {
     "data": {
      "text/plain": [
       "array([[5000,   42,   60,    9,   15],\n",
       "       [   1,   61,   22,    5,   50],\n",
       "       [  13,   64,    7,   97,   59],\n",
       "       [  24,   25,   38,   20,   13],\n",
       "       [  13,   94,   34,   61,   26]])"
      ]
     },
     "execution_count": 112,
     "metadata": {},
     "output_type": "execute_result"
    }
   ],
   "source": [
    "arr"
   ]
  },
  {
   "cell_type": "code",
   "execution_count": 116,
   "id": "aa6d9472-2d92-4419-8e7b-cc35e7295179",
   "metadata": {},
   "outputs": [],
   "source": [
    "arr1 = np.random.randint(1,3,(3,3))\n",
    "arr2 = np.random.randint(1,3,(3,3))"
   ]
  },
  {
   "cell_type": "code",
   "execution_count": 117,
   "id": "fa374d48-9521-4091-99eb-4ad508888ac0",
   "metadata": {},
   "outputs": [
    {
     "data": {
      "text/plain": [
       "array([[2, 1, 2],\n",
       "       [2, 1, 1],\n",
       "       [1, 2, 1]])"
      ]
     },
     "execution_count": 117,
     "metadata": {},
     "output_type": "execute_result"
    }
   ],
   "source": [
    "arr1"
   ]
  },
  {
   "cell_type": "code",
   "execution_count": 118,
   "id": "7374b167-d76e-48eb-922c-d5a4ba68c0e0",
   "metadata": {},
   "outputs": [
    {
     "data": {
      "text/plain": [
       "array([[4, 2, 3],\n",
       "       [3, 2, 3],\n",
       "       [3, 4, 2]])"
      ]
     },
     "execution_count": 118,
     "metadata": {},
     "output_type": "execute_result"
    }
   ],
   "source": [
    "arr1 + arr2"
   ]
  },
  {
   "cell_type": "code",
   "execution_count": 120,
   "id": "b6dbbc4e-aac1-4f74-9cf4-d7c2357e63c1",
   "metadata": {},
   "outputs": [
    {
     "data": {
      "text/plain": [
       "array([[4, 1, 2],\n",
       "       [2, 1, 2],\n",
       "       [2, 4, 1]])"
      ]
     },
     "execution_count": 120,
     "metadata": {},
     "output_type": "execute_result"
    }
   ],
   "source": [
    "arr1*arr2  #This is simple index multiplication not a matrix multiplication."
   ]
  },
  {
   "cell_type": "markdown",
   "id": "72a53c23-8482-401f-8ebb-2c25771032cc",
   "metadata": {},
   "source": [
    "#Matrix multiplication"
   ]
  },
  {
   "cell_type": "code",
   "execution_count": 122,
   "id": "1ae0c334-fd66-4e24-a3ae-b710027a8277",
   "metadata": {},
   "outputs": [
    {
     "data": {
      "text/plain": [
       "array([[2, 1, 2],\n",
       "       [2, 1, 1],\n",
       "       [1, 2, 1]])"
      ]
     },
     "execution_count": 122,
     "metadata": {},
     "output_type": "execute_result"
    }
   ],
   "source": [
    "arr1"
   ]
  },
  {
   "cell_type": "code",
   "execution_count": 123,
   "id": "7c6999c5-3515-4f5e-a07a-ed6ec7147482",
   "metadata": {},
   "outputs": [
    {
     "data": {
      "text/plain": [
       "array([[2, 1, 1],\n",
       "       [1, 1, 2],\n",
       "       [2, 2, 1]])"
      ]
     },
     "execution_count": 123,
     "metadata": {},
     "output_type": "execute_result"
    }
   ],
   "source": [
    "arr2"
   ]
  },
  {
   "cell_type": "code",
   "execution_count": 125,
   "id": "ae174348-9a3c-41f6-82e5-a107ab96b0a8",
   "metadata": {},
   "outputs": [
    {
     "data": {
      "text/plain": [
       "array([[9, 7, 6],\n",
       "       [7, 5, 5],\n",
       "       [6, 5, 6]])"
      ]
     },
     "execution_count": 125,
     "metadata": {},
     "output_type": "execute_result"
    }
   ],
   "source": [
    "arr1@arr2  # Here '@' return the matrix multiplication of two arrays."
   ]
  },
  {
   "cell_type": "code",
   "execution_count": 127,
   "id": "af6a68fd-d314-441a-b397-7c87349d17e2",
   "metadata": {},
   "outputs": [
    {
     "name": "stderr",
     "output_type": "stream",
     "text": [
      "/tmp/ipykernel_90/3289283540.py:1: RuntimeWarning: divide by zero encountered in divide\n",
      "  arr1/0  # Generally in python it gives 'error'. But, in Numpy package, It will return 'Infinity'\n"
     ]
    },
    {
     "data": {
      "text/plain": [
       "array([[inf, inf, inf],\n",
       "       [inf, inf, inf],\n",
       "       [inf, inf, inf]])"
      ]
     },
     "execution_count": 127,
     "metadata": {},
     "output_type": "execute_result"
    }
   ],
   "source": [
    "arr1/0  # Generally in python it gives 'error'. But, in Numpy package, It will return 'Infinity'"
   ]
  },
  {
   "cell_type": "code",
   "execution_count": 128,
   "id": "b0cabfd9-2930-4105-89e6-4588cd175ea7",
   "metadata": {},
   "outputs": [
    {
     "data": {
      "text/plain": [
       "array([[102, 101, 102],\n",
       "       [102, 101, 101],\n",
       "       [101, 102, 101]])"
      ]
     },
     "execution_count": 128,
     "metadata": {},
     "output_type": "execute_result"
    }
   ],
   "source": [
    "arr1+100 # Adding 100 to all elements of an array"
   ]
  },
  {
   "cell_type": "code",
   "execution_count": 130,
   "id": "9c61d31c-6563-45eb-b2ee-b772da35b4ef",
   "metadata": {},
   "outputs": [
    {
     "data": {
      "text/plain": [
       "array([[4, 1, 4],\n",
       "       [4, 1, 1],\n",
       "       [1, 4, 1]])"
      ]
     },
     "execution_count": 130,
     "metadata": {},
     "output_type": "execute_result"
    }
   ],
   "source": [
    "arr1**2  # squaring each and every elements of an array."
   ]
  },
  {
   "cell_type": "markdown",
   "id": "d42be658-8dbf-4919-ba9b-ff62aff8ed1f",
   "metadata": {},
   "source": [
    " # Numpy - Broadcasting."
   ]
  },
  {
   "cell_type": "code",
   "execution_count": 132,
   "id": "ecabc563-785b-4c0a-a559-ec0c4cf497bb",
   "metadata": {},
   "outputs": [],
   "source": [
    "arr = np.zeros((4,4))"
   ]
  },
  {
   "cell_type": "code",
   "execution_count": 133,
   "id": "71d7d39a-eb7f-4b11-b29b-9a0ea40cd8ea",
   "metadata": {},
   "outputs": [
    {
     "data": {
      "text/plain": [
       "array([[0., 0., 0., 0.],\n",
       "       [0., 0., 0., 0.],\n",
       "       [0., 0., 0., 0.],\n",
       "       [0., 0., 0., 0.]])"
      ]
     },
     "execution_count": 133,
     "metadata": {},
     "output_type": "execute_result"
    }
   ],
   "source": [
    "arr"
   ]
  },
  {
   "cell_type": "code",
   "execution_count": 134,
   "id": "89f98df4-31da-4b6e-b404-713f2f81ac44",
   "metadata": {},
   "outputs": [],
   "source": [
    "row = np.array([1,2,3,4]) # This array will not transpose."
   ]
  },
  {
   "cell_type": "code",
   "execution_count": 135,
   "id": "1b143369-b7ac-413c-8147-e4db10a5ffca",
   "metadata": {},
   "outputs": [
    {
     "data": {
      "text/plain": [
       "array([1, 2, 3, 4])"
      ]
     },
     "execution_count": 135,
     "metadata": {},
     "output_type": "execute_result"
    }
   ],
   "source": [
    "row"
   ]
  },
  {
   "cell_type": "code",
   "execution_count": 137,
   "id": "654008e5-0a89-424b-8fa8-73d2a0e7c4ec",
   "metadata": {},
   "outputs": [
    {
     "data": {
      "text/plain": [
       "array([[1., 2., 3., 4.],\n",
       "       [1., 2., 3., 4.],\n",
       "       [1., 2., 3., 4.],\n",
       "       [1., 2., 3., 4.]])"
      ]
     },
     "execution_count": 137,
     "metadata": {},
     "output_type": "execute_result"
    }
   ],
   "source": [
    "arr + row  # This is row-wise broadcasting."
   ]
  },
  {
   "cell_type": "code",
   "execution_count": 139,
   "id": "4e97d05a-dba7-4d88-9540-e1894732d21e",
   "metadata": {},
   "outputs": [],
   "source": [
    "col = np.array([[1,2,3,4]])"
   ]
  },
  {
   "cell_type": "code",
   "execution_count": 143,
   "id": "eb566705-81db-463d-a872-c3c3bb41e187",
   "metadata": {},
   "outputs": [
    {
     "data": {
      "text/plain": [
       "array([[1],\n",
       "       [2],\n",
       "       [3],\n",
       "       [4]])"
      ]
     },
     "execution_count": 143,
     "metadata": {},
     "output_type": "execute_result"
    }
   ],
   "source": [
    "col.T  # 'T' is used to transpose of matrix"
   ]
  },
  {
   "cell_type": "code",
   "execution_count": 145,
   "id": "01e6c012-49a7-43de-84c5-623899458118",
   "metadata": {},
   "outputs": [
    {
     "data": {
      "text/plain": [
       "array([[1., 1., 1., 1.],\n",
       "       [2., 2., 2., 2.],\n",
       "       [3., 3., 3., 3.],\n",
       "       [4., 4., 4., 4.]])"
      ]
     },
     "execution_count": 145,
     "metadata": {},
     "output_type": "execute_result"
    }
   ],
   "source": [
    "col.T + arr  # This is column-wise broadcasting."
   ]
  },
  {
   "cell_type": "code",
   "execution_count": 148,
   "id": "5586304b-f1fd-4f70-a4aa-68ea84182ace",
   "metadata": {},
   "outputs": [],
   "source": [
    "arr1 = np.random.randint(1,4,(3,4))"
   ]
  },
  {
   "cell_type": "code",
   "execution_count": 149,
   "id": "4711937f-dc3c-4007-b47f-62660f217f10",
   "metadata": {},
   "outputs": [
    {
     "data": {
      "text/plain": [
       "array([[1.41421356, 1.        , 1.        , 1.73205081],\n",
       "       [1.73205081, 1.41421356, 1.73205081, 1.41421356],\n",
       "       [1.73205081, 1.73205081, 1.        , 1.73205081]])"
      ]
     },
     "execution_count": 149,
     "metadata": {},
     "output_type": "execute_result"
    }
   ],
   "source": [
    "np.sqrt(arr1)"
   ]
  },
  {
   "cell_type": "code",
   "execution_count": 150,
   "id": "05a7853b-925f-4f18-a65c-f57761465f24",
   "metadata": {},
   "outputs": [
    {
     "data": {
      "text/plain": [
       "array([[ 7.3890561 ,  2.71828183,  2.71828183, 20.08553692],\n",
       "       [20.08553692,  7.3890561 , 20.08553692,  7.3890561 ],\n",
       "       [20.08553692, 20.08553692,  2.71828183, 20.08553692]])"
      ]
     },
     "execution_count": 150,
     "metadata": {},
     "output_type": "execute_result"
    }
   ],
   "source": [
    "np.exp(arr1)"
   ]
  },
  {
   "cell_type": "code",
   "execution_count": 151,
   "id": "8959838d-186e-4712-acd7-f791bf72ef30",
   "metadata": {},
   "outputs": [
    {
     "data": {
      "text/plain": [
       "array([[0.30103   , 0.        , 0.        , 0.47712125],\n",
       "       [0.47712125, 0.30103   , 0.47712125, 0.30103   ],\n",
       "       [0.47712125, 0.47712125, 0.        , 0.47712125]])"
      ]
     },
     "execution_count": 151,
     "metadata": {},
     "output_type": "execute_result"
    }
   ],
   "source": [
    "np.log10(arr1)"
   ]
  },
  {
   "cell_type": "code",
   "execution_count": null,
   "id": "6b5a7a29-5a7e-4940-86b2-0cc11811fa0b",
   "metadata": {},
   "outputs": [],
   "source": []
  }
 ],
 "metadata": {
  "kernelspec": {
   "display_name": "Python 3 (ipykernel)",
   "language": "python",
   "name": "python3"
  },
  "language_info": {
   "codemirror_mode": {
    "name": "ipython",
    "version": 3
   },
   "file_extension": ".py",
   "mimetype": "text/x-python",
   "name": "python",
   "nbconvert_exporter": "python",
   "pygments_lexer": "ipython3",
   "version": "3.10.8"
  }
 },
 "nbformat": 4,
 "nbformat_minor": 5
}
